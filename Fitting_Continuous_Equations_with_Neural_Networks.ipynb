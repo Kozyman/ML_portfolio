{
  "nbformat": 4,
  "nbformat_minor": 0,
  "metadata": {
    "colab": {
      "name": "Fitting Continuous Equations with Neural Networks.ipynb",
      "version": "0.3.2",
      "provenance": [],
      "collapsed_sections": [
        "Kun4SmrUrXxk",
        "pdX9x5c9aiap",
        "DOg4yQ-TbAyQ",
        "KORmKv5Iwe3g"
      ],
      "include_colab_link": true
    },
    "kernelspec": {
      "name": "python3",
      "display_name": "Python 3"
    }
  },
  "cells": [
    {
      "cell_type": "markdown",
      "metadata": {
        "id": "view-in-github",
        "colab_type": "text"
      },
      "source": [
        "<a href=\"https://colab.research.google.com/github/kavinCodes/ML_portfolio/blob/master/Fitting_Continuous_Equations_with_Neural_Networks.ipynb\" target=\"_parent\"><img src=\"https://colab.research.google.com/assets/colab-badge.svg\" alt=\"Open In Colab\"/></a>"
      ]
    },
    {
      "metadata": {
        "id": "Kun4SmrUrXxk",
        "colab_type": "text"
      },
      "cell_type": "markdown",
      "source": [
        "### **Importing libraries**"
      ]
    },
    {
      "metadata": {
        "id": "qkhHrSUOaGom",
        "colab_type": "code",
        "colab": {
          "base_uri": "https://localhost:8080/",
          "height": 34
        },
        "outputId": "5cc15969-1022-4328-ede8-0c2e4fb43eac"
      },
      "cell_type": "code",
      "source": [
        "import numpy as np\n",
        "import pandas as pd\n",
        "import tensorflow as tf\n",
        "import matplotlib.pyplot as plt\n",
        "\n",
        "from tensorflow import keras\n",
        "from keras.models import Sequential\n",
        "from keras.layers import Dense, Flatten, Activation\n",
        "from keras.utils import normalize"
      ],
      "execution_count": 3,
      "outputs": [
        {
          "output_type": "stream",
          "text": [
            "Using TensorFlow backend.\n"
          ],
          "name": "stderr"
        }
      ]
    },
    {
      "metadata": {
        "id": "pdX9x5c9aiap",
        "colab_type": "text"
      },
      "cell_type": "markdown",
      "source": [
        "### **Defining equations:**\n",
        "$$f(x)=\\sqrt[3]{x}$$\n",
        "$$f(x)=x^2$$\n",
        "$$f(x)=ax^2 + bx + c$$\n",
        "$$f(x)=\\frac{1}{1+e^{-x}}$$"
      ]
    },
    {
      "metadata": {
        "id": "jc7Bbs5KaXKb",
        "colab_type": "code",
        "colab": {}
      },
      "cell_type": "code",
      "source": [
        "def cube_root(x):\n",
        "  return np.cbrt(x)\n",
        "\n",
        "def simple_parabola(x):\n",
        "  return np.square(x)\n",
        "\n",
        "def complex_parabola(x, a=2, b=-2, c=-4):\n",
        "  return np.add(a*np.square(x), np.add(b*x, c))\n",
        "\n",
        "def sigmoid(x):\n",
        "  return 1/np.add(1, np.exp(-x))"
      ],
      "execution_count": 0,
      "outputs": []
    },
    {
      "metadata": {
        "id": "C6XOYZOQw_iP",
        "colab_type": "code",
        "colab": {}
      },
      "cell_type": "code",
      "source": [
        "function_list = {'cube_root': cube_root, \n",
        "                 'simple_parabola': simple_parabola, \n",
        "                 'complex_parabola': complex_parabola, \n",
        "                 'sigmoid': sigmoid}"
      ],
      "execution_count": 0,
      "outputs": []
    },
    {
      "metadata": {
        "id": "DOg4yQ-TbAyQ",
        "colab_type": "text"
      },
      "cell_type": "markdown",
      "source": [
        "### **Neural network builder class and training functions**"
      ]
    },
    {
      "metadata": {
        "id": "UL9APTipbANr",
        "colab_type": "code",
        "colab": {}
      },
      "cell_type": "code",
      "source": [
        "## Creating a Build class to construct different types of models\n",
        "class build_():\n",
        "    \n",
        "  def __init__(self):\n",
        "    pass\n",
        "  \n",
        "  def a_base_model(self):\n",
        "    temp = Sequential()\n",
        "    temp.add(Dense(128, activation=tf.nn.relu))\n",
        "    temp.add(Dense(128, activation=tf.nn.relu))\n",
        "    temp.add(Dense(1, activation=tf.nn.relu))\n",
        "    return temp\n",
        "  \n",
        "  def a_level_1_model(self):\n",
        "    temp = Sequential()\n",
        "    temp.add(Dense(128, activation=tf.nn.relu))\n",
        "    temp.add(Dense(128, activation=tf.nn.relu))\n",
        "    temp.add(Dense(1))\n",
        "    return temp\n",
        " \n",
        "  def a_level_2_model(self):\n",
        "    temp = Sequential()\n",
        "    temp.add(Dense(128, activation=tf.nn.relu))\n",
        "    temp.add(Dense(128, activation=tf.nn.relu))\n",
        "    temp.add(Dense(64, activation=tf.nn.relu))\n",
        "    temp.add(Dense(64, activation=tf.nn.relu))\n",
        "    temp.add(Dense(1))\n",
        "    return temp\n",
        "  \n",
        "## Function to train a model on some data\n",
        "def equation_training(model, train, labels, epochs=50):\n",
        "  \"\"\"Requires at least 3 inputs\"\"\"\n",
        "  model.compile(optimizer='Adam', loss='mean_squared_error', metrics=['mse'])\n",
        "  model.fit(train, labels, epochs=epochs, verbose=0)\n",
        "  \n",
        "## Adding polynomial features to a X,Y training set\n",
        "def add_poly(train, order):\n",
        "  feat = np.power(train, order)\n",
        "  return np.concatenate((train, feat), axis=1)"
      ],
      "execution_count": 0,
      "outputs": []
    },
    {
      "metadata": {
        "id": "KORmKv5Iwe3g",
        "colab_type": "text"
      },
      "cell_type": "markdown",
      "source": [
        "### **Neural network curve fitting function**"
      ]
    },
    {
      "metadata": {
        "id": "Mx6cjYPorLKv",
        "colab_type": "code",
        "colab": {}
      },
      "cell_type": "code",
      "source": [
        "def NN_curve_fitting(x, y=None, equation=None, poly=True, return_model=False):\n",
        "  \"\"\" This solver takes in an input and output and runs through a neural\n",
        "  network to predict the function's response.\n",
        "  \n",
        "  If 'y' is None, 'equation' must be given\n",
        "  If 'equation' is given, do not include 'y'\n",
        "  \n",
        "  Possible 'equations' are (as defined in function_list):\n",
        "    'cube_root'\n",
        "    'simple_parabola'\n",
        "    'complex_parabola'\n",
        "    'sigmoid'\n",
        "    \n",
        "  \n",
        "  \"\"\"\n",
        "  \n",
        "  test_x = np.linspace(np.min(x), np.max(x), num=500).reshape(-1,1)\n",
        "  \n",
        "  ## create polynomial features for train/test inputs\n",
        "  if poly:\n",
        "    orders = [2]\n",
        "    x_train = add_poly(x, orders)\n",
        "    x_test = add_poly(test_x, orders)\n",
        "    pass\n",
        "  else:\n",
        "    x_train = x\n",
        "    x_test = test_x\n",
        "    pass\n",
        "      \n",
        "  ## retrieve 'y' if given\n",
        "  if y is None:\n",
        "    y_train = function_list[equation](x).reshape(-1,1)\n",
        "    y_test = function_list[equation](test_x).reshape(-1,1)\n",
        "    pass\n",
        "  else:\n",
        "    y_train = y\n",
        "  \n",
        "  ## build and train NN\n",
        "  model = build_().a_level_2_model()\n",
        "  equation_training(model, x_train, y_train)\n",
        "  \n",
        "  ## create prediction values to graph\n",
        "  y_pred = model.predict(x_test)\n",
        "  \n",
        "  ## visualize results\n",
        "  plt.scatter(x, y_train)\n",
        "  plt.plot(test_x, y_pred, 'r')\n",
        "  \n",
        "  if return_model:\n",
        "    return model\n",
        "  \n",
        "  pass\n",
        "  \n",
        "  "
      ],
      "execution_count": 0,
      "outputs": []
    },
    {
      "metadata": {
        "id": "sDzNhky-lkSR",
        "colab_type": "text"
      },
      "cell_type": "markdown",
      "source": [
        "# **Playground**"
      ]
    },
    {
      "metadata": {
        "id": "ezjp1HLolppU",
        "colab_type": "code",
        "colab": {}
      },
      "cell_type": "code",
      "source": [
        "## Defining training/test inputs\n",
        "play_train = np.subtract(10*np.random.rand(1000).reshape(-1,1), 5)\n",
        "\n",
        "## Defining training labels\n",
        "play_labels = sigmoid(play_train)\n"
      ],
      "execution_count": 0,
      "outputs": []
    },
    {
      "metadata": {
        "id": "yaGQAkjNzSPq",
        "colab_type": "code",
        "colab": {
          "base_uri": "https://localhost:8080/",
          "height": 347
        },
        "outputId": "77685e30-6cbb-4ca8-abc7-420d44a5ed0c"
      },
      "cell_type": "code",
      "source": [
        "NN_curve_fitting(play_train, equation='sigmoid', poly=False)"
      ],
      "execution_count": 82,
      "outputs": [
        {
          "output_type": "display_data",
          "data": {
            "image/png": "[encoded data removed]",
            "text/plain": [
              "<matplotlib.figure.Figure at 0x7fc918021ac8>"
            ]
          },
          "metadata": {
            "tags": []
          }
        }
      ]
    },
    {
      "metadata": {
        "id": "nRf0p8TuzV8s",
        "colab_type": "code",
        "colab": {
          "base_uri": "https://localhost:8080/",
          "height": 347
        },
        "outputId": "a1027cdd-0363-41d5-d60b-3ae4eba50399"
      },
      "cell_type": "code",
      "source": [
        "NN_curve_fitting(play_train, play_labels)"
      ],
      "execution_count": 83,
      "outputs": [
        {
          "output_type": "display_data",
          "data": {
            "image/png": "[encoded data removed]",
            "text/plain": [
              "<matplotlib.figure.Figure at 0x7fc917aa8fd0>"
            ]
          },
          "metadata": {
            "tags": []
          }
        }
      ]
    },
    {
      "metadata": {
        "id": "HZKgr8_bEz79",
        "colab_type": "text"
      },
      "cell_type": "markdown",
      "source": [
        "Can this model work for determining black-body radiation curves w.r.t wavelength while also changing temperature if that's given as another independent variable? What do the resulting weights look like?"
      ]
    },
    {
      "metadata": {
        "id": "f11-KbUy4Uqt",
        "colab_type": "code",
        "colab": {}
      },
      "cell_type": "code",
      "source": [
        ""
      ],
      "execution_count": 0,
      "outputs": []
    }
  ]
}