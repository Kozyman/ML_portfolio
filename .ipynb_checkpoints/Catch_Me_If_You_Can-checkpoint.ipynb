{
 "cells": [
  {
   "cell_type": "markdown",
   "metadata": {},
   "source": [
    "# Detecting Intruders Through Website Session Tracking  \n",
    "_by Kavin Manickaraj_"
   ]
  },
  {
   "cell_type": "markdown",
   "metadata": {},
   "source": [
    "## 0. The Problem"
   ]
  },
  {
   "cell_type": "markdown",
   "metadata": {},
   "source": [
    "Storing a consumer's behavior data is quickly becoming the standard procedure for an ever-increasing number of industries, ranging from **banking**<sup>[1](http://www.bbc.com/storyworks/banking-on-innovation/bigdata)</sup> and **transportation**<sup>[2](https://datafloq.com/read/southwest-airlines-uses-big-data-deliver-excellent/371)</sup> to **fashion**<sup>[3](https://medium.com/datadriveninvestor/how-the-fashion-industry-is-using-data-science-33c9b2739ef6)</sup> and **food**<sup>[4](https://www.wsj.com/articles/how-restaurants-are-using-big-data-as-a-competitive-tool-1538515392)</sup>. But as we continue to tailor user experiences based on their prior histories, it becomes increasingly important to determine the _real_ users from the imposters.\n",
    "\n",
    "In this article, we will explore one of the more obvious applications of this strategy by attempting to categorize web sessions between those of an authorized user surfing the web and those of a nefarious third-party hoping to sway customized results (such as ads and suggested content) away from the user's interests. Since the data used for this project is fictional, let's focus more on learning how different classifiers perform with this task and less on determining the optimal model or tuning hyper-parameters. Of course, implementing a full-scale approach would include the latter two components but that is beyond the scope of this study.  \n",
    "\n",
    "To define our strategy more concretely, we will perform the following steps:\n",
    "0. **Framing the problem** - _since we've defined the scope of work above, we can move along to..._\n",
    "1. **Data pre-processing** - _where we import and clean the raw training data of errors, missing values, and unhelpful formats_\n",
    "2. **Exploratory data analysis** - _during which we identify trends, select features, and create our final training datasets_\n",
    "3. **Modeling and testing** - _the final component of this study at which time we'll weigh the benefits (and detriments) of various modeling strategies_\n",
    "\n",
    "\\*As an additional note, the data used in this study was obtained from [this Kaggle competition](https://www.kaggle.com/c/catch-me-if-you-can-intruder-detection-through-webpage-session-tracking2/data). The creators have specifically asked participants not to publish high-performing kernels. Therefore, this article will omit certain elements of that may be used to benefit a future participant's scores.\n"
   ]
  },
  {
   "cell_type": "markdown",
   "metadata": {},
   "source": [
    "## 1. Data pre-processing"
   ]
  },
  {
   "cell_type": "code",
   "execution_count": 1,
   "metadata": {},
   "outputs": [],
   "source": [
    "## We'll need the following libraries\n",
    "import pickle\n",
    "import numpy as np\n",
    "import pandas as pd\n",
    "import matplotlib.pyplot as plt\n",
    "import seaborn as sns\n",
    "from sklearn.feature_extraction.text import TfidfVectorizer\n",
    "from sklearn.model_selection import TimeSeriesSplit, cross_val_score\n",
    "from sklearn.preprocessing import StandardScaler, PolynomialFeatures\n",
    "from sklearn.pipeline import Pipeline\n",
    "from sklearn.ensemble import RandomForestClassifier\n",
    "from sklearn.linear_model import LogisticRegression, SGDClassifier\n",
    "from scipy.sparse import hstack, csr_matrix\n",
    "import xgboost as xgb\n",
    "import time\n",
    "\n",
    "## As a fan of FiveThirtyEight's visualizations, let's use their color schemes\n",
    "plt.style.use('fivethirtyeight')\n",
    "\n",
    "## Finally, let's quiet some of the warnings associated with some of the classifiers to keep our outputs clean\n",
    "import warnings\n",
    "warnings.filterwarnings('ignore')"
   ]
  },
  {
   "cell_type": "markdown",
   "metadata": {},
   "source": [
    "As a necessary step to pre-processing the data, we will import the contents from `train_sessions.csv` into a Pandas dataframe and create column names. "
   ]
  },
  {
   "cell_type": "code",
   "execution_count": 2,
   "metadata": {},
   "outputs": [],
   "source": [
    "# load train data\n",
    "train_data = pd.read_csv('../mlcourse.ai/data/train_sessions.csv')\n",
    "\n",
    "# setting website and time column names - maximum 10 sessions\n",
    "site_cols = ['site{}'.format(i) for i in range(1,11)]\n",
    "time_cols = ['time{}'.format(i) for i in range(1,11)]"
   ]
  },
  {
   "cell_type": "code",
   "execution_count": 3,
   "metadata": {},
   "outputs": [],
   "source": [
    "# function to name the dataframe columns\n",
    "def convert_df(df):\n",
    "    df[site_cols] = df[site_cols].fillna(0).astype('int')\n",
    "    df[time_cols] = df[time_cols].apply(pd.to_datetime)\n",
    "    return df"
   ]
  },
  {
   "cell_type": "code",
   "execution_count": 5,
   "metadata": {},
   "outputs": [
    {
     "name": "stdout",
     "output_type": "stream",
     "text": [
      "train_data shape:  (253561, 22)\n"
     ]
    }
   ],
   "source": [
    "# use our function on our newly-imported data\n",
    "train_data = convert_df(train_data)\n",
    "\n",
    "# ...and print out the final shape of the DF\n",
    "print('train_data shape: ', train_data.shape)"
   ]
  },
  {
   "cell_type": "markdown",
   "metadata": {},
   "source": [
    "Let's see what the dataframe looks like so far. This will help us identify other elements we'll need to fix during this data pre-processing stage."
   ]
  },
  {
   "cell_type": "code",
   "execution_count": 6,
   "metadata": {},
   "outputs": [
    {
     "data": {
      "text/html": [
       "<div>\n",
       "<style scoped>\n",
       "    .dataframe tbody tr th:only-of-type {\n",
       "        vertical-align: middle;\n",
       "    }\n",
       "\n",
       "    .dataframe tbody tr th {\n",
       "        vertical-align: top;\n",
       "    }\n",
       "\n",
       "    .dataframe thead th {\n",
       "        text-align: right;\n",
       "    }\n",
       "</style>\n",
       "<table border=\"1\" class=\"dataframe\">\n",
       "  <thead>\n",
       "    <tr style=\"text-align: right;\">\n",
       "      <th></th>\n",
       "      <th>session_id</th>\n",
       "      <th>site1</th>\n",
       "      <th>time1</th>\n",
       "      <th>site2</th>\n",
       "      <th>time2</th>\n",
       "      <th>site3</th>\n",
       "      <th>time3</th>\n",
       "      <th>site4</th>\n",
       "      <th>time4</th>\n",
       "      <th>site5</th>\n",
       "      <th>...</th>\n",
       "      <th>time6</th>\n",
       "      <th>site7</th>\n",
       "      <th>time7</th>\n",
       "      <th>site8</th>\n",
       "      <th>time8</th>\n",
       "      <th>site9</th>\n",
       "      <th>time9</th>\n",
       "      <th>site10</th>\n",
       "      <th>time10</th>\n",
       "      <th>target</th>\n",
       "    </tr>\n",
       "  </thead>\n",
       "  <tbody>\n",
       "    <tr>\n",
       "      <th>0</th>\n",
       "      <td>1</td>\n",
       "      <td>718</td>\n",
       "      <td>2014-02-20 10:02:45</td>\n",
       "      <td>0</td>\n",
       "      <td>NaT</td>\n",
       "      <td>0</td>\n",
       "      <td>NaT</td>\n",
       "      <td>0</td>\n",
       "      <td>NaT</td>\n",
       "      <td>0</td>\n",
       "      <td>...</td>\n",
       "      <td>NaT</td>\n",
       "      <td>0</td>\n",
       "      <td>NaT</td>\n",
       "      <td>0</td>\n",
       "      <td>NaT</td>\n",
       "      <td>0</td>\n",
       "      <td>NaT</td>\n",
       "      <td>0</td>\n",
       "      <td>NaT</td>\n",
       "      <td>0</td>\n",
       "    </tr>\n",
       "    <tr>\n",
       "      <th>1</th>\n",
       "      <td>2</td>\n",
       "      <td>890</td>\n",
       "      <td>2014-02-22 11:19:50</td>\n",
       "      <td>941</td>\n",
       "      <td>2014-02-22 11:19:50</td>\n",
       "      <td>3847</td>\n",
       "      <td>2014-02-22 11:19:51</td>\n",
       "      <td>941</td>\n",
       "      <td>2014-02-22 11:19:51</td>\n",
       "      <td>942</td>\n",
       "      <td>...</td>\n",
       "      <td>2014-02-22 11:19:51</td>\n",
       "      <td>3847</td>\n",
       "      <td>2014-02-22 11:19:52</td>\n",
       "      <td>3846</td>\n",
       "      <td>2014-02-22 11:19:52</td>\n",
       "      <td>1516</td>\n",
       "      <td>2014-02-22 11:20:15</td>\n",
       "      <td>1518</td>\n",
       "      <td>2014-02-22 11:20:16</td>\n",
       "      <td>0</td>\n",
       "    </tr>\n",
       "    <tr>\n",
       "      <th>2</th>\n",
       "      <td>3</td>\n",
       "      <td>14769</td>\n",
       "      <td>2013-12-16 16:40:17</td>\n",
       "      <td>39</td>\n",
       "      <td>2013-12-16 16:40:18</td>\n",
       "      <td>14768</td>\n",
       "      <td>2013-12-16 16:40:19</td>\n",
       "      <td>14769</td>\n",
       "      <td>2013-12-16 16:40:19</td>\n",
       "      <td>37</td>\n",
       "      <td>...</td>\n",
       "      <td>2013-12-16 16:40:19</td>\n",
       "      <td>14768</td>\n",
       "      <td>2013-12-16 16:40:20</td>\n",
       "      <td>14768</td>\n",
       "      <td>2013-12-16 16:40:21</td>\n",
       "      <td>14768</td>\n",
       "      <td>2013-12-16 16:40:22</td>\n",
       "      <td>14768</td>\n",
       "      <td>2013-12-16 16:40:24</td>\n",
       "      <td>0</td>\n",
       "    </tr>\n",
       "    <tr>\n",
       "      <th>3</th>\n",
       "      <td>4</td>\n",
       "      <td>782</td>\n",
       "      <td>2014-03-28 10:52:12</td>\n",
       "      <td>782</td>\n",
       "      <td>2014-03-28 10:52:42</td>\n",
       "      <td>782</td>\n",
       "      <td>2014-03-28 10:53:12</td>\n",
       "      <td>782</td>\n",
       "      <td>2014-03-28 10:53:42</td>\n",
       "      <td>782</td>\n",
       "      <td>...</td>\n",
       "      <td>2014-03-28 10:54:42</td>\n",
       "      <td>782</td>\n",
       "      <td>2014-03-28 10:55:12</td>\n",
       "      <td>782</td>\n",
       "      <td>2014-03-28 10:55:42</td>\n",
       "      <td>782</td>\n",
       "      <td>2014-03-28 10:56:12</td>\n",
       "      <td>782</td>\n",
       "      <td>2014-03-28 10:56:42</td>\n",
       "      <td>0</td>\n",
       "    </tr>\n",
       "    <tr>\n",
       "      <th>4</th>\n",
       "      <td>5</td>\n",
       "      <td>22</td>\n",
       "      <td>2014-02-28 10:53:05</td>\n",
       "      <td>177</td>\n",
       "      <td>2014-02-28 10:55:22</td>\n",
       "      <td>175</td>\n",
       "      <td>2014-02-28 10:55:22</td>\n",
       "      <td>178</td>\n",
       "      <td>2014-02-28 10:55:23</td>\n",
       "      <td>177</td>\n",
       "      <td>...</td>\n",
       "      <td>2014-02-28 10:55:59</td>\n",
       "      <td>175</td>\n",
       "      <td>2014-02-28 10:55:59</td>\n",
       "      <td>177</td>\n",
       "      <td>2014-02-28 10:55:59</td>\n",
       "      <td>177</td>\n",
       "      <td>2014-02-28 10:57:06</td>\n",
       "      <td>178</td>\n",
       "      <td>2014-02-28 10:57:11</td>\n",
       "      <td>0</td>\n",
       "    </tr>\n",
       "  </tbody>\n",
       "</table>\n",
       "<p>5 rows × 22 columns</p>\n",
       "</div>"
      ],
      "text/plain": [
       "   session_id  site1               time1  site2               time2  site3  \\\n",
       "0           1    718 2014-02-20 10:02:45      0                 NaT      0   \n",
       "1           2    890 2014-02-22 11:19:50    941 2014-02-22 11:19:50   3847   \n",
       "2           3  14769 2013-12-16 16:40:17     39 2013-12-16 16:40:18  14768   \n",
       "3           4    782 2014-03-28 10:52:12    782 2014-03-28 10:52:42    782   \n",
       "4           5     22 2014-02-28 10:53:05    177 2014-02-28 10:55:22    175   \n",
       "\n",
       "                time3  site4               time4  site5   ...    \\\n",
       "0                 NaT      0                 NaT      0   ...     \n",
       "1 2014-02-22 11:19:51    941 2014-02-22 11:19:51    942   ...     \n",
       "2 2013-12-16 16:40:19  14769 2013-12-16 16:40:19     37   ...     \n",
       "3 2014-03-28 10:53:12    782 2014-03-28 10:53:42    782   ...     \n",
       "4 2014-02-28 10:55:22    178 2014-02-28 10:55:23    177   ...     \n",
       "\n",
       "                time6  site7               time7  site8               time8  \\\n",
       "0                 NaT      0                 NaT      0                 NaT   \n",
       "1 2014-02-22 11:19:51   3847 2014-02-22 11:19:52   3846 2014-02-22 11:19:52   \n",
       "2 2013-12-16 16:40:19  14768 2013-12-16 16:40:20  14768 2013-12-16 16:40:21   \n",
       "3 2014-03-28 10:54:42    782 2014-03-28 10:55:12    782 2014-03-28 10:55:42   \n",
       "4 2014-02-28 10:55:59    175 2014-02-28 10:55:59    177 2014-02-28 10:55:59   \n",
       "\n",
       "   site9               time9  site10              time10  target  \n",
       "0      0                 NaT       0                 NaT       0  \n",
       "1   1516 2014-02-22 11:20:15    1518 2014-02-22 11:20:16       0  \n",
       "2  14768 2013-12-16 16:40:22   14768 2013-12-16 16:40:24       0  \n",
       "3    782 2014-03-28 10:56:12     782 2014-03-28 10:56:42       0  \n",
       "4    177 2014-02-28 10:57:06     178 2014-02-28 10:57:11       0  \n",
       "\n",
       "[5 rows x 22 columns]"
      ]
     },
     "execution_count": 6,
     "metadata": {},
     "output_type": "execute_result"
    }
   ],
   "source": [
    "train_data.head()"
   ]
  },
  {
   "cell_type": "markdown",
   "metadata": {},
   "source": [
    "Immediately, we notice a few things:\n",
    "- The `time1` column is not in chronological order\n",
    "- We have `NaT` values where the user's session ended before visiting 10 websites\n",
    "\n",
    "We address the former by sorting data with resect to the `time1` column. We can work on the `NaT` issue a bit later. For now, let's see how the newly-sorted dataframe looks."
   ]
  },
  {
   "cell_type": "code",
   "execution_count": 7,
   "metadata": {},
   "outputs": [
    {
     "data": {
      "text/html": [
       "<div>\n",
       "<style scoped>\n",
       "    .dataframe tbody tr th:only-of-type {\n",
       "        vertical-align: middle;\n",
       "    }\n",
       "\n",
       "    .dataframe tbody tr th {\n",
       "        vertical-align: top;\n",
       "    }\n",
       "\n",
       "    .dataframe thead th {\n",
       "        text-align: right;\n",
       "    }\n",
       "</style>\n",
       "<table border=\"1\" class=\"dataframe\">\n",
       "  <thead>\n",
       "    <tr style=\"text-align: right;\">\n",
       "      <th></th>\n",
       "      <th>session_id</th>\n",
       "      <th>site1</th>\n",
       "      <th>time1</th>\n",
       "      <th>site2</th>\n",
       "      <th>time2</th>\n",
       "      <th>site3</th>\n",
       "      <th>time3</th>\n",
       "      <th>site4</th>\n",
       "      <th>time4</th>\n",
       "      <th>site5</th>\n",
       "      <th>...</th>\n",
       "      <th>time6</th>\n",
       "      <th>site7</th>\n",
       "      <th>time7</th>\n",
       "      <th>site8</th>\n",
       "      <th>time8</th>\n",
       "      <th>site9</th>\n",
       "      <th>time9</th>\n",
       "      <th>site10</th>\n",
       "      <th>time10</th>\n",
       "      <th>target</th>\n",
       "    </tr>\n",
       "  </thead>\n",
       "  <tbody>\n",
       "    <tr>\n",
       "      <th>21668</th>\n",
       "      <td>21669</td>\n",
       "      <td>56</td>\n",
       "      <td>2013-01-12 08:05:57</td>\n",
       "      <td>55</td>\n",
       "      <td>2013-01-12 08:05:57</td>\n",
       "      <td>0</td>\n",
       "      <td>NaT</td>\n",
       "      <td>0</td>\n",
       "      <td>NaT</td>\n",
       "      <td>0</td>\n",
       "      <td>...</td>\n",
       "      <td>NaT</td>\n",
       "      <td>0</td>\n",
       "      <td>NaT</td>\n",
       "      <td>0</td>\n",
       "      <td>NaT</td>\n",
       "      <td>0</td>\n",
       "      <td>NaT</td>\n",
       "      <td>0</td>\n",
       "      <td>NaT</td>\n",
       "      <td>0</td>\n",
       "    </tr>\n",
       "    <tr>\n",
       "      <th>54842</th>\n",
       "      <td>54843</td>\n",
       "      <td>56</td>\n",
       "      <td>2013-01-12 08:37:23</td>\n",
       "      <td>55</td>\n",
       "      <td>2013-01-12 08:37:23</td>\n",
       "      <td>56</td>\n",
       "      <td>2013-01-12 09:07:07</td>\n",
       "      <td>55</td>\n",
       "      <td>2013-01-12 09:07:09</td>\n",
       "      <td>0</td>\n",
       "      <td>...</td>\n",
       "      <td>NaT</td>\n",
       "      <td>0</td>\n",
       "      <td>NaT</td>\n",
       "      <td>0</td>\n",
       "      <td>NaT</td>\n",
       "      <td>0</td>\n",
       "      <td>NaT</td>\n",
       "      <td>0</td>\n",
       "      <td>NaT</td>\n",
       "      <td>0</td>\n",
       "    </tr>\n",
       "    <tr>\n",
       "      <th>77291</th>\n",
       "      <td>77292</td>\n",
       "      <td>946</td>\n",
       "      <td>2013-01-12 08:50:13</td>\n",
       "      <td>946</td>\n",
       "      <td>2013-01-12 08:50:14</td>\n",
       "      <td>951</td>\n",
       "      <td>2013-01-12 08:50:15</td>\n",
       "      <td>946</td>\n",
       "      <td>2013-01-12 08:50:15</td>\n",
       "      <td>946</td>\n",
       "      <td>...</td>\n",
       "      <td>2013-01-12 08:50:16</td>\n",
       "      <td>948</td>\n",
       "      <td>2013-01-12 08:50:16</td>\n",
       "      <td>784</td>\n",
       "      <td>2013-01-12 08:50:16</td>\n",
       "      <td>949</td>\n",
       "      <td>2013-01-12 08:50:17</td>\n",
       "      <td>946</td>\n",
       "      <td>2013-01-12 08:50:17</td>\n",
       "      <td>0</td>\n",
       "    </tr>\n",
       "    <tr>\n",
       "      <th>114020</th>\n",
       "      <td>114021</td>\n",
       "      <td>945</td>\n",
       "      <td>2013-01-12 08:50:17</td>\n",
       "      <td>948</td>\n",
       "      <td>2013-01-12 08:50:17</td>\n",
       "      <td>949</td>\n",
       "      <td>2013-01-12 08:50:18</td>\n",
       "      <td>948</td>\n",
       "      <td>2013-01-12 08:50:18</td>\n",
       "      <td>945</td>\n",
       "      <td>...</td>\n",
       "      <td>2013-01-12 08:50:18</td>\n",
       "      <td>947</td>\n",
       "      <td>2013-01-12 08:50:19</td>\n",
       "      <td>945</td>\n",
       "      <td>2013-01-12 08:50:19</td>\n",
       "      <td>946</td>\n",
       "      <td>2013-01-12 08:50:19</td>\n",
       "      <td>946</td>\n",
       "      <td>2013-01-12 08:50:20</td>\n",
       "      <td>0</td>\n",
       "    </tr>\n",
       "    <tr>\n",
       "      <th>146669</th>\n",
       "      <td>146670</td>\n",
       "      <td>947</td>\n",
       "      <td>2013-01-12 08:50:20</td>\n",
       "      <td>950</td>\n",
       "      <td>2013-01-12 08:50:20</td>\n",
       "      <td>948</td>\n",
       "      <td>2013-01-12 08:50:20</td>\n",
       "      <td>947</td>\n",
       "      <td>2013-01-12 08:50:21</td>\n",
       "      <td>950</td>\n",
       "      <td>...</td>\n",
       "      <td>2013-01-12 08:50:21</td>\n",
       "      <td>946</td>\n",
       "      <td>2013-01-12 08:50:21</td>\n",
       "      <td>951</td>\n",
       "      <td>2013-01-12 08:50:22</td>\n",
       "      <td>946</td>\n",
       "      <td>2013-01-12 08:50:22</td>\n",
       "      <td>947</td>\n",
       "      <td>2013-01-12 08:50:22</td>\n",
       "      <td>0</td>\n",
       "    </tr>\n",
       "  </tbody>\n",
       "</table>\n",
       "<p>5 rows × 22 columns</p>\n",
       "</div>"
      ],
      "text/plain": [
       "        session_id  site1               time1  site2               time2  \\\n",
       "21668        21669     56 2013-01-12 08:05:57     55 2013-01-12 08:05:57   \n",
       "54842        54843     56 2013-01-12 08:37:23     55 2013-01-12 08:37:23   \n",
       "77291        77292    946 2013-01-12 08:50:13    946 2013-01-12 08:50:14   \n",
       "114020      114021    945 2013-01-12 08:50:17    948 2013-01-12 08:50:17   \n",
       "146669      146670    947 2013-01-12 08:50:20    950 2013-01-12 08:50:20   \n",
       "\n",
       "        site3               time3  site4               time4  site5   ...    \\\n",
       "21668       0                 NaT      0                 NaT      0   ...     \n",
       "54842      56 2013-01-12 09:07:07     55 2013-01-12 09:07:09      0   ...     \n",
       "77291     951 2013-01-12 08:50:15    946 2013-01-12 08:50:15    946   ...     \n",
       "114020    949 2013-01-12 08:50:18    948 2013-01-12 08:50:18    945   ...     \n",
       "146669    948 2013-01-12 08:50:20    947 2013-01-12 08:50:21    950   ...     \n",
       "\n",
       "                     time6  site7               time7  site8  \\\n",
       "21668                  NaT      0                 NaT      0   \n",
       "54842                  NaT      0                 NaT      0   \n",
       "77291  2013-01-12 08:50:16    948 2013-01-12 08:50:16    784   \n",
       "114020 2013-01-12 08:50:18    947 2013-01-12 08:50:19    945   \n",
       "146669 2013-01-12 08:50:21    946 2013-01-12 08:50:21    951   \n",
       "\n",
       "                     time8  site9               time9  site10  \\\n",
       "21668                  NaT      0                 NaT       0   \n",
       "54842                  NaT      0                 NaT       0   \n",
       "77291  2013-01-12 08:50:16    949 2013-01-12 08:50:17     946   \n",
       "114020 2013-01-12 08:50:19    946 2013-01-12 08:50:19     946   \n",
       "146669 2013-01-12 08:50:22    946 2013-01-12 08:50:22     947   \n",
       "\n",
       "                    time10  target  \n",
       "21668                  NaT       0  \n",
       "54842                  NaT       0  \n",
       "77291  2013-01-12 08:50:17       0  \n",
       "114020 2013-01-12 08:50:20       0  \n",
       "146669 2013-01-12 08:50:22       0  \n",
       "\n",
       "[5 rows x 22 columns]"
      ]
     },
     "execution_count": 7,
     "metadata": {},
     "output_type": "execute_result"
    }
   ],
   "source": [
    "train_data = train_data.sort_values(by=time_cols[0])\n",
    "train_data.head()"
   ]
  },
  {
   "cell_type": "markdown",
   "metadata": {},
   "source": [
    "Separating the `target` column from the train_data as `y_train`"
   ]
  },
  {
   "cell_type": "code",
   "execution_count": 8,
   "metadata": {},
   "outputs": [
    {
     "name": "stdout",
     "output_type": "stream",
     "text": [
      "y_train shape:  (253561,)\n"
     ]
    }
   ],
   "source": [
    "y_train = train_data.pop('target')\n",
    "print('y_train shape: ', y_train.shape)"
   ]
  },
  {
   "cell_type": "code",
   "execution_count": 9,
   "metadata": {},
   "outputs": [
    {
     "name": "stdout",
     "output_type": "stream",
     "text": [
      "New train_data shape:  (253561, 21)\n"
     ]
    }
   ],
   "source": [
    "print('New train_data shape: ', train_data.shape)"
   ]
  },
  {
   "cell_type": "markdown",
   "metadata": {},
   "source": [
    "We have a pickle file that holds website information. Let's extract it and see what the dictionary holds"
   ]
  },
  {
   "cell_type": "code",
   "execution_count": 10,
   "metadata": {},
   "outputs": [
    {
     "name": "stdout",
     "output_type": "stream",
     "text": [
      "['www.abmecatronique.com', 'groups.live.com', 'majeureliguefootball.wordpress.com', 'cdt46.media.tourinsoft.eu', 'www.hdwallpapers.eu']\n",
      "[25075, 13997, 42436, 30911, 8104]\n"
     ]
    }
   ],
   "source": [
    "with open(\"../mlcourse.ai/data/site_dic.pkl\", \"rb\") as input_file:\n",
    "    site_dict = pickle.load(input_file)\n",
    "\n",
    "# Let's see the first 5 keys and values in the dictionary\n",
    "print(list(site_dict.keys())[:5])\n",
    "print(list(site_dict.values())[:5])"
   ]
  },
  {
   "cell_type": "markdown",
   "metadata": {},
   "source": [
    "To make a Dataframe with this information, we should set the dictionary keys as the dataframe values and vice versa."
   ]
  },
  {
   "cell_type": "code",
   "execution_count": 11,
   "metadata": {},
   "outputs": [
    {
     "data": {
      "text/html": [
       "<div>\n",
       "<style scoped>\n",
       "    .dataframe tbody tr th:only-of-type {\n",
       "        vertical-align: middle;\n",
       "    }\n",
       "\n",
       "    .dataframe tbody tr th {\n",
       "        vertical-align: top;\n",
       "    }\n",
       "\n",
       "    .dataframe thead th {\n",
       "        text-align: right;\n",
       "    }\n",
       "</style>\n",
       "<table border=\"1\" class=\"dataframe\">\n",
       "  <thead>\n",
       "    <tr style=\"text-align: right;\">\n",
       "      <th></th>\n",
       "      <th>site</th>\n",
       "    </tr>\n",
       "  </thead>\n",
       "  <tbody>\n",
       "    <tr>\n",
       "      <th>25075</th>\n",
       "      <td>www.abmecatronique.com</td>\n",
       "    </tr>\n",
       "    <tr>\n",
       "      <th>13997</th>\n",
       "      <td>groups.live.com</td>\n",
       "    </tr>\n",
       "    <tr>\n",
       "      <th>42436</th>\n",
       "      <td>majeureliguefootball.wordpress.com</td>\n",
       "    </tr>\n",
       "    <tr>\n",
       "      <th>30911</th>\n",
       "      <td>cdt46.media.tourinsoft.eu</td>\n",
       "    </tr>\n",
       "    <tr>\n",
       "      <th>8104</th>\n",
       "      <td>www.hdwallpapers.eu</td>\n",
       "    </tr>\n",
       "  </tbody>\n",
       "</table>\n",
       "</div>"
      ],
      "text/plain": [
       "                                     site\n",
       "25075              www.abmecatronique.com\n",
       "13997                     groups.live.com\n",
       "42436  majeureliguefootball.wordpress.com\n",
       "30911           cdt46.media.tourinsoft.eu\n",
       "8104                  www.hdwallpapers.eu"
      ]
     },
     "execution_count": 11,
     "metadata": {},
     "output_type": "execute_result"
    }
   ],
   "source": [
    "sites_by_id = pd.DataFrame(list(site_dict.keys()), index=list(site_dict.values()), columns=['site'])\n",
    "sites_by_id.head()"
   ]
  },
  {
   "cell_type": "markdown",
   "metadata": {},
   "source": [
    "Converting website data into Tf-Idf Vectorizer. This creates a sparse matrix where the output is weighed proportionally with the frequency of occurance of a text feature and inversely with the frequency of that feature over the corpus. Therefore, features that are too frequent and potentially unusable for distinguishing an example's outcome will be weighed appropriately. "
   ]
  },
  {
   "cell_type": "markdown",
   "metadata": {},
   "source": [
    "First, we need to replace the website IDs in each cell with the corresponding web addresses per the pickle dictionary"
   ]
  },
  {
   "cell_type": "code",
   "execution_count": 12,
   "metadata": {},
   "outputs": [],
   "source": [
    "# Invert the site dictionary to be used when mapping the train/test site values\n",
    "inverse_site_dict = {v: k for k,v in site_dict.items()}"
   ]
  },
  {
   "cell_type": "code",
   "execution_count": 13,
   "metadata": {},
   "outputs": [
    {
     "data": {
      "text/html": [
       "<div>\n",
       "<style scoped>\n",
       "    .dataframe tbody tr th:only-of-type {\n",
       "        vertical-align: middle;\n",
       "    }\n",
       "\n",
       "    .dataframe tbody tr th {\n",
       "        vertical-align: top;\n",
       "    }\n",
       "\n",
       "    .dataframe thead th {\n",
       "        text-align: right;\n",
       "    }\n",
       "</style>\n",
       "<table border=\"1\" class=\"dataframe\">\n",
       "  <thead>\n",
       "    <tr style=\"text-align: right;\">\n",
       "      <th></th>\n",
       "      <th>site1</th>\n",
       "      <th>site2</th>\n",
       "      <th>site3</th>\n",
       "      <th>site4</th>\n",
       "      <th>site5</th>\n",
       "      <th>site6</th>\n",
       "      <th>site7</th>\n",
       "      <th>site8</th>\n",
       "      <th>site9</th>\n",
       "      <th>site10</th>\n",
       "    </tr>\n",
       "  </thead>\n",
       "  <tbody>\n",
       "    <tr>\n",
       "      <th>21668</th>\n",
       "      <td>safebrowsing.clients.google.com</td>\n",
       "      <td>safebrowsing-cache.google.com</td>\n",
       "      <td>NaN</td>\n",
       "      <td>NaN</td>\n",
       "      <td>NaN</td>\n",
       "      <td>NaN</td>\n",
       "      <td>NaN</td>\n",
       "      <td>NaN</td>\n",
       "      <td>NaN</td>\n",
       "      <td>NaN</td>\n",
       "    </tr>\n",
       "    <tr>\n",
       "      <th>54842</th>\n",
       "      <td>safebrowsing.clients.google.com</td>\n",
       "      <td>safebrowsing-cache.google.com</td>\n",
       "      <td>safebrowsing.clients.google.com</td>\n",
       "      <td>safebrowsing-cache.google.com</td>\n",
       "      <td>NaN</td>\n",
       "      <td>NaN</td>\n",
       "      <td>NaN</td>\n",
       "      <td>NaN</td>\n",
       "      <td>NaN</td>\n",
       "      <td>NaN</td>\n",
       "    </tr>\n",
       "    <tr>\n",
       "      <th>77291</th>\n",
       "      <td>www.apache.org</td>\n",
       "      <td>www.apache.org</td>\n",
       "      <td>download.eclipse.org</td>\n",
       "      <td>www.apache.org</td>\n",
       "      <td>www.apache.org</td>\n",
       "      <td>www.webtide.com</td>\n",
       "      <td>download.oracle.com</td>\n",
       "      <td>javadl-esd-secure.oracle.com</td>\n",
       "      <td>www.caucho.com</td>\n",
       "      <td>www.apache.org</td>\n",
       "    </tr>\n",
       "    <tr>\n",
       "      <th>114020</th>\n",
       "      <td>www.webtide.com</td>\n",
       "      <td>download.oracle.com</td>\n",
       "      <td>www.caucho.com</td>\n",
       "      <td>download.oracle.com</td>\n",
       "      <td>www.webtide.com</td>\n",
       "      <td>www.apache.org</td>\n",
       "      <td>public.dhe.ibm.com</td>\n",
       "      <td>www.webtide.com</td>\n",
       "      <td>www.apache.org</td>\n",
       "      <td>www.apache.org</td>\n",
       "    </tr>\n",
       "    <tr>\n",
       "      <th>146669</th>\n",
       "      <td>public.dhe.ibm.com</td>\n",
       "      <td>jope.ow2.org</td>\n",
       "      <td>download.oracle.com</td>\n",
       "      <td>public.dhe.ibm.com</td>\n",
       "      <td>jope.ow2.org</td>\n",
       "      <td>master.dl.sourceforge.net</td>\n",
       "      <td>www.apache.org</td>\n",
       "      <td>download.eclipse.org</td>\n",
       "      <td>www.apache.org</td>\n",
       "      <td>public.dhe.ibm.com</td>\n",
       "    </tr>\n",
       "  </tbody>\n",
       "</table>\n",
       "</div>"
      ],
      "text/plain": [
       "                                  site1                          site2  \\\n",
       "21668   safebrowsing.clients.google.com  safebrowsing-cache.google.com   \n",
       "54842   safebrowsing.clients.google.com  safebrowsing-cache.google.com   \n",
       "77291                    www.apache.org                 www.apache.org   \n",
       "114020                  www.webtide.com            download.oracle.com   \n",
       "146669               public.dhe.ibm.com                   jope.ow2.org   \n",
       "\n",
       "                                  site3                          site4  \\\n",
       "21668                               NaN                            NaN   \n",
       "54842   safebrowsing.clients.google.com  safebrowsing-cache.google.com   \n",
       "77291              download.eclipse.org                 www.apache.org   \n",
       "114020                   www.caucho.com            download.oracle.com   \n",
       "146669              download.oracle.com             public.dhe.ibm.com   \n",
       "\n",
       "                  site5                      site6                site7  \\\n",
       "21668               NaN                        NaN                  NaN   \n",
       "54842               NaN                        NaN                  NaN   \n",
       "77291    www.apache.org            www.webtide.com  download.oracle.com   \n",
       "114020  www.webtide.com             www.apache.org   public.dhe.ibm.com   \n",
       "146669     jope.ow2.org  master.dl.sourceforge.net       www.apache.org   \n",
       "\n",
       "                               site8           site9              site10  \n",
       "21668                            NaN             NaN                 NaN  \n",
       "54842                            NaN             NaN                 NaN  \n",
       "77291   javadl-esd-secure.oracle.com  www.caucho.com      www.apache.org  \n",
       "114020               www.webtide.com  www.apache.org      www.apache.org  \n",
       "146669          download.eclipse.org  www.apache.org  public.dhe.ibm.com  "
      ]
     },
     "execution_count": 13,
     "metadata": {},
     "output_type": "execute_result"
    }
   ],
   "source": [
    "train_sites = train_data[site_cols].apply(lambda col: col.map(inverse_site_dict))\n",
    "test_sites = test_data[site_cols].apply(lambda col: col.map(inverse_site_dict))\n",
    "train_sites.head()"
   ]
  },
  {
   "cell_type": "markdown",
   "metadata": {},
   "source": [
    "Fill `NaN` values with `0` and output a CSV file. This step allows us to take advantage of OHE vectorizer operations."
   ]
  },
  {
   "cell_type": "code",
   "execution_count": 14,
   "metadata": {},
   "outputs": [],
   "source": [
    "train_sites.fillna(0).to_csv('train_sites.txt', sep=' ', index=False, header=False)\n",
    "test_sites.fillna(0).to_csv('test_sites.txt', sep=' ', index=False, header=False)\n",
    "\n",
    "whole_sites = pd.concat([train_sites, test_sites])\n",
    "whole_sites.fillna(0).to_csv('whole_sites.txt', sep=' ', index=False, header=False)"
   ]
  },
  {
   "cell_type": "markdown",
   "metadata": {},
   "source": [
    "Let's use a Tf-Idf vectorizer to identify the most useful website name features while ignoring those that are too prevalent and therefore not distinctive to either authorized and unauthorized users. We set the n-grams between 1 and 4 to capture a range of sites that may have multiple word components."
   ]
  },
  {
   "cell_type": "code",
   "execution_count": 15,
   "metadata": {},
   "outputs": [
    {
     "name": "stdout",
     "output_type": "stream",
     "text": [
      "Wall time: 36.1 s\n"
     ]
    }
   ],
   "source": [
    "%%time\n",
    "tv = TfidfVectorizer(ngram_range=(1,4), analyzer='word', max_features=50000) ## choosing the 10,000 most frequent feat\n",
    "\n",
    "with open('whole_sites.txt') as input_whole:\n",
    "    tv_whole_fit = tv.fit(input_whole)"
   ]
  },
  {
   "cell_type": "code",
   "execution_count": 16,
   "metadata": {},
   "outputs": [],
   "source": [
    "with open('train_sites.txt') as input_train:\n",
    "    train_tfidf = tv.transform(input_train)\n",
    "with open('test_sites.txt') as input_test:\n",
    "    test_tfidf = tv.transform(input_test)"
   ]
  },
  {
   "cell_type": "code",
   "execution_count": 17,
   "metadata": {},
   "outputs": [
    {
     "name": "stdout",
     "output_type": "stream",
     "text": [
      "train_tfidf shape is: (253561, 50000) \n",
      "test_tfidf shape is (82797, 50000)\n"
     ]
    }
   ],
   "source": [
    "print('train_tfidf shape is: {} \\ntest_tfidf shape is {}'.format(train_tfidf.shape, test_tfidf.shape))"
   ]
  },
  {
   "cell_type": "code",
   "execution_count": 18,
   "metadata": {},
   "outputs": [
    {
     "name": "stdout",
     "output_type": "stream",
     "text": [
      "<class 'scipy.sparse.csr.csr_matrix'> <class 'scipy.sparse.csr.csr_matrix'>\n"
     ]
    }
   ],
   "source": [
    "print(type(train_tfidf), type(test_tfidf))"
   ]
  },
  {
   "cell_type": "markdown",
   "metadata": {},
   "source": [
    "Now we have a sparse matrix `train_tfidf` that captures the top 50,000 features vectorized by word n-grams describing web addresses. We don't have labels for the 'test_tfidf' matrix, but we can still run our model on the data to see the probabilites of sessions being authorized or unauthorized.\n",
    "\n",
    "Our next step is to add time-dependent features. To do this, let's create a new sparse matrix of some basic time data we want to visualize. Some basic pieces information we'd like to investigate are:\n",
    "\n",
    "- start hour\n",
    "- stop hour\n",
    "- start day\n",
    "- start month\n",
    "- year\n",
    "- total session minutes"
   ]
  },
  {
   "cell_type": "code",
   "execution_count": 19,
   "metadata": {},
   "outputs": [],
   "source": [
    "def add_time_features(dataframe, scaler):\n",
    "    ''' This function takes a dataframe and a scaler function (or a pipeline of transformers) \n",
    "    and outputs a dataframe of extracted time features as well as a transformed/scaled \n",
    "    dataframe defined by the scalers provided.'''\n",
    "    \n",
    "    df = pd.DataFrame(index=dataframe.index)\n",
    "    t = 'time1'\n",
    "    df['start_hour'] = dataframe[t].apply(lambda ts: ts.hour)\n",
    "    df['stop_hour'] = dataframe[time_cols].max(axis=1).apply(lambda ts: ts.hour)\n",
    "    df['start_day'] = dataframe[t].apply(lambda ts: ts.weekday())\n",
    "    df['start_month'] = dataframe[t].apply(lambda ts: ts.month)\n",
    "    df['year'] = dataframe[t].apply(lambda ts: ts.year)\n",
    "    df['session_mins'] = round((dataframe[time_cols].max(axis=1) - \n",
    "                                dataframe[time_cols].min(axis=1)) \n",
    "                               /np.timedelta64(1, 'm'), 2)\n",
    "    df_scaled = pd.DataFrame(scaler.fit_transform(df),\n",
    "                             index=df.index,\n",
    "                             columns=df.columns)\n",
    "    return df, df_scaled"
   ]
  },
  {
   "cell_type": "code",
   "execution_count": 20,
   "metadata": {
    "scrolled": true
   },
   "outputs": [
    {
     "name": "stdout",
     "output_type": "stream",
     "text": [
      "(253561, 6)\n"
     ]
    },
    {
     "data": {
      "text/html": [
       "<div>\n",
       "<style scoped>\n",
       "    .dataframe tbody tr th:only-of-type {\n",
       "        vertical-align: middle;\n",
       "    }\n",
       "\n",
       "    .dataframe tbody tr th {\n",
       "        vertical-align: top;\n",
       "    }\n",
       "\n",
       "    .dataframe thead th {\n",
       "        text-align: right;\n",
       "    }\n",
       "</style>\n",
       "<table border=\"1\" class=\"dataframe\">\n",
       "  <thead>\n",
       "    <tr style=\"text-align: right;\">\n",
       "      <th></th>\n",
       "      <th>start_hour</th>\n",
       "      <th>stop_hour</th>\n",
       "      <th>start_day</th>\n",
       "      <th>start_month</th>\n",
       "      <th>year</th>\n",
       "      <th>session_mins</th>\n",
       "    </tr>\n",
       "  </thead>\n",
       "  <tbody>\n",
       "    <tr>\n",
       "      <th>21668</th>\n",
       "      <td>-1.357366</td>\n",
       "      <td>-1.365219</td>\n",
       "      <td>1.682905</td>\n",
       "      <td>-0.943567</td>\n",
       "      <td>-1.547749</td>\n",
       "      <td>-0.468233</td>\n",
       "    </tr>\n",
       "    <tr>\n",
       "      <th>54842</th>\n",
       "      <td>-1.357366</td>\n",
       "      <td>-1.049528</td>\n",
       "      <td>1.682905</td>\n",
       "      <td>-0.943567</td>\n",
       "      <td>-1.547749</td>\n",
       "      <td>5.570684</td>\n",
       "    </tr>\n",
       "    <tr>\n",
       "      <th>77291</th>\n",
       "      <td>-1.357366</td>\n",
       "      <td>-1.365219</td>\n",
       "      <td>1.682905</td>\n",
       "      <td>-0.943567</td>\n",
       "      <td>-1.547749</td>\n",
       "      <td>-0.454034</td>\n",
       "    </tr>\n",
       "    <tr>\n",
       "      <th>114020</th>\n",
       "      <td>-1.357366</td>\n",
       "      <td>-1.365219</td>\n",
       "      <td>1.682905</td>\n",
       "      <td>-0.943567</td>\n",
       "      <td>-1.547749</td>\n",
       "      <td>-0.458091</td>\n",
       "    </tr>\n",
       "    <tr>\n",
       "      <th>146669</th>\n",
       "      <td>-1.357366</td>\n",
       "      <td>-1.365219</td>\n",
       "      <td>1.682905</td>\n",
       "      <td>-0.943567</td>\n",
       "      <td>-1.547749</td>\n",
       "      <td>-0.462148</td>\n",
       "    </tr>\n",
       "  </tbody>\n",
       "</table>\n",
       "</div>"
      ],
      "text/plain": [
       "        start_hour  stop_hour  start_day  start_month      year  session_mins\n",
       "21668    -1.357366  -1.365219   1.682905    -0.943567 -1.547749     -0.468233\n",
       "54842    -1.357366  -1.049528   1.682905    -0.943567 -1.547749      5.570684\n",
       "77291    -1.357366  -1.365219   1.682905    -0.943567 -1.547749     -0.454034\n",
       "114020   -1.357366  -1.365219   1.682905    -0.943567 -1.547749     -0.458091\n",
       "146669   -1.357366  -1.365219   1.682905    -0.943567 -1.547749     -0.462148"
      ]
     },
     "execution_count": 20,
     "metadata": {},
     "output_type": "execute_result"
    }
   ],
   "source": [
    "pipeline = Pipeline([('sscaler', StandardScaler())])\n",
    "train_times, train_times_scaled = add_time_features(train_data, pipeline)\n",
    "print(train_times.shape)\n",
    "train_times_scaled.head()"
   ]
  },
  {
   "cell_type": "markdown",
   "metadata": {},
   "source": [
    "We can concatenate the resulting scaled time-feature dataframe with the 'train_tfidf' data and produce a set of data with a combined 50,006 features to be analyzed with our model. This may not be our final dataset to be considered, but we'll save it now to compare against the results of other dataframes with different features we'll build. "
   ]
  },
  {
   "cell_type": "code",
   "execution_count": 21,
   "metadata": {},
   "outputs": [
    {
     "data": {
      "text/plain": [
       "(253561, 50006)"
      ]
     },
     "execution_count": 21,
     "metadata": {},
     "output_type": "execute_result"
    }
   ],
   "source": [
    "train_sparse = hstack((train_tfidf, csr_matrix(train_times_scaled)))\n",
    "train_sparse.shape"
   ]
  },
  {
   "cell_type": "markdown",
   "metadata": {},
   "source": [
    "### Visualizing Features"
   ]
  },
  {
   "cell_type": "code",
   "execution_count": 22,
   "metadata": {},
   "outputs": [
    {
     "data": {
      "text/html": [
       "<div>\n",
       "<style scoped>\n",
       "    .dataframe tbody tr th:only-of-type {\n",
       "        vertical-align: middle;\n",
       "    }\n",
       "\n",
       "    .dataframe tbody tr th {\n",
       "        vertical-align: top;\n",
       "    }\n",
       "\n",
       "    .dataframe thead th {\n",
       "        text-align: right;\n",
       "    }\n",
       "</style>\n",
       "<table border=\"1\" class=\"dataframe\">\n",
       "  <thead>\n",
       "    <tr style=\"text-align: right;\">\n",
       "      <th></th>\n",
       "      <th>start_hour</th>\n",
       "      <th>stop_hour</th>\n",
       "      <th>start_day</th>\n",
       "      <th>start_month</th>\n",
       "      <th>year</th>\n",
       "      <th>session_mins</th>\n",
       "      <th>target</th>\n",
       "    </tr>\n",
       "  </thead>\n",
       "  <tbody>\n",
       "    <tr>\n",
       "      <th>21668</th>\n",
       "      <td>8</td>\n",
       "      <td>8</td>\n",
       "      <td>5</td>\n",
       "      <td>1</td>\n",
       "      <td>2013</td>\n",
       "      <td>0.00</td>\n",
       "      <td>0</td>\n",
       "    </tr>\n",
       "    <tr>\n",
       "      <th>54842</th>\n",
       "      <td>8</td>\n",
       "      <td>9</td>\n",
       "      <td>5</td>\n",
       "      <td>1</td>\n",
       "      <td>2013</td>\n",
       "      <td>29.77</td>\n",
       "      <td>0</td>\n",
       "    </tr>\n",
       "    <tr>\n",
       "      <th>77291</th>\n",
       "      <td>8</td>\n",
       "      <td>8</td>\n",
       "      <td>5</td>\n",
       "      <td>1</td>\n",
       "      <td>2013</td>\n",
       "      <td>0.07</td>\n",
       "      <td>0</td>\n",
       "    </tr>\n",
       "    <tr>\n",
       "      <th>114020</th>\n",
       "      <td>8</td>\n",
       "      <td>8</td>\n",
       "      <td>5</td>\n",
       "      <td>1</td>\n",
       "      <td>2013</td>\n",
       "      <td>0.05</td>\n",
       "      <td>0</td>\n",
       "    </tr>\n",
       "    <tr>\n",
       "      <th>146669</th>\n",
       "      <td>8</td>\n",
       "      <td>8</td>\n",
       "      <td>5</td>\n",
       "      <td>1</td>\n",
       "      <td>2013</td>\n",
       "      <td>0.03</td>\n",
       "      <td>0</td>\n",
       "    </tr>\n",
       "  </tbody>\n",
       "</table>\n",
       "</div>"
      ],
      "text/plain": [
       "        start_hour  stop_hour  start_day  start_month  year  session_mins  \\\n",
       "21668            8          8          5            1  2013          0.00   \n",
       "54842            8          9          5            1  2013         29.77   \n",
       "77291            8          8          5            1  2013          0.07   \n",
       "114020           8          8          5            1  2013          0.05   \n",
       "146669           8          8          5            1  2013          0.03   \n",
       "\n",
       "        target  \n",
       "21668        0  \n",
       "54842        0  \n",
       "77291        0  \n",
       "114020       0  \n",
       "146669       0  "
      ]
     },
     "execution_count": 22,
     "metadata": {},
     "output_type": "execute_result"
    }
   ],
   "source": [
    "train_times['target'] = y_train\n",
    "train_times.head()"
   ]
  },
  {
   "cell_type": "code",
   "execution_count": 23,
   "metadata": {},
   "outputs": [
    {
     "name": "stdout",
     "output_type": "stream",
     "text": [
      "Min start hour: 7; Max start hour: 23 \n",
      "Min stop hour: 7, Max start hour: 23\n"
     ]
    }
   ],
   "source": [
    "print('Min start hour: {}; Max start hour: {} \\nMin stop hour: {}, Max start hour: {}'\n",
    "      .format(train_times.start_hour.min(),\n",
    "              train_times.start_hour.max(),\n",
    "              train_times.stop_hour.min(),\n",
    "              train_times.stop_hour.max()))"
   ]
  },
  {
   "cell_type": "code",
   "execution_count": 24,
   "metadata": {},
   "outputs": [
    {
     "name": "stdout",
     "output_type": "stream",
     "text": [
      "Wall time: 38 s\n"
     ]
    },
    {
     "data": {
      "text/plain": [
       "<seaborn.axisgrid.PairGrid at 0x24501babbe0>"
      ]
     },
     "execution_count": 24,
     "metadata": {},
     "output_type": "execute_result"
    },
    {
     "data": {
      "image/png": "[encoded data removed]",
      "text/plain": [
       "<Figure size 1125x1080 with 42 Axes>"
      ]
     },
     "metadata": {
      "needs_background": "light"
     },
     "output_type": "display_data"
    }
   ],
   "source": [
    "%%time\n",
    "sns.pairplot(train_times, vars=list(train_times.columns)[:-1], hue='target', height=2.5)"
   ]
  },
  {
   "cell_type": "markdown",
   "metadata": {},
   "source": [
    "It seems like our data can benefit from some polynomial features -- specifically for the features `session_mins`, `start_hour`, `start_month`, `start_day`.\n",
    "This is because the target values do not seem linearly separable without polynomial considerations."
   ]
  },
  {
   "cell_type": "code",
   "execution_count": 25,
   "metadata": {},
   "outputs": [],
   "source": [
    "def add_poly_feats(dataframe):\n",
    "    feat_list = ['session_mins', 'start_hour', 'start_month', 'start_day']\n",
    "    pipeline = Pipeline([('poly', PolynomialFeatures(2, include_bias=False)), ('sscaler', StandardScaler())])\n",
    "    values = pipeline.fit_transform(dataframe[feat_list])\n",
    "    df_scaled = pd.DataFrame(values, index=dataframe.index)\n",
    "    return df_scaled[list(range(4,len(df_scaled.columns)))]"
   ]
  },
  {
   "cell_type": "code",
   "execution_count": 26,
   "metadata": {},
   "outputs": [
    {
     "data": {
      "text/html": [
       "<div>\n",
       "<style scoped>\n",
       "    .dataframe tbody tr th:only-of-type {\n",
       "        vertical-align: middle;\n",
       "    }\n",
       "\n",
       "    .dataframe tbody tr th {\n",
       "        vertical-align: top;\n",
       "    }\n",
       "\n",
       "    .dataframe thead th {\n",
       "        text-align: right;\n",
       "    }\n",
       "</style>\n",
       "<table border=\"1\" class=\"dataframe\">\n",
       "  <thead>\n",
       "    <tr style=\"text-align: right;\">\n",
       "      <th></th>\n",
       "      <th>4</th>\n",
       "      <th>5</th>\n",
       "      <th>6</th>\n",
       "      <th>7</th>\n",
       "      <th>8</th>\n",
       "      <th>9</th>\n",
       "      <th>10</th>\n",
       "      <th>11</th>\n",
       "      <th>12</th>\n",
       "      <th>13</th>\n",
       "    </tr>\n",
       "  </thead>\n",
       "  <tbody>\n",
       "    <tr>\n",
       "      <th>21668</th>\n",
       "      <td>-0.259557</td>\n",
       "      <td>-0.435987</td>\n",
       "      <td>-0.336844</td>\n",
       "      <td>-0.355233</td>\n",
       "      <td>-1.141548</td>\n",
       "      <td>-0.938987</td>\n",
       "      <td>0.505361</td>\n",
       "      <td>-0.669589</td>\n",
       "      <td>-0.433697</td>\n",
       "      <td>1.990254</td>\n",
       "    </tr>\n",
       "    <tr>\n",
       "      <th>54842</th>\n",
       "      <td>7.503990</td>\n",
       "      <td>3.136628</td>\n",
       "      <td>0.587071</td>\n",
       "      <td>9.698256</td>\n",
       "      <td>-1.141548</td>\n",
       "      <td>-0.938987</td>\n",
       "      <td>0.505361</td>\n",
       "      <td>-0.669589</td>\n",
       "      <td>-0.433697</td>\n",
       "      <td>1.990254</td>\n",
       "    </tr>\n",
       "    <tr>\n",
       "      <th>77291</th>\n",
       "      <td>-0.259514</td>\n",
       "      <td>-0.427586</td>\n",
       "      <td>-0.334672</td>\n",
       "      <td>-0.331594</td>\n",
       "      <td>-1.141548</td>\n",
       "      <td>-0.938987</td>\n",
       "      <td>0.505361</td>\n",
       "      <td>-0.669589</td>\n",
       "      <td>-0.433697</td>\n",
       "      <td>1.990254</td>\n",
       "    </tr>\n",
       "    <tr>\n",
       "      <th>114020</th>\n",
       "      <td>-0.259535</td>\n",
       "      <td>-0.429987</td>\n",
       "      <td>-0.335292</td>\n",
       "      <td>-0.338348</td>\n",
       "      <td>-1.141548</td>\n",
       "      <td>-0.938987</td>\n",
       "      <td>0.505361</td>\n",
       "      <td>-0.669589</td>\n",
       "      <td>-0.433697</td>\n",
       "      <td>1.990254</td>\n",
       "    </tr>\n",
       "    <tr>\n",
       "      <th>146669</th>\n",
       "      <td>-0.259549</td>\n",
       "      <td>-0.432387</td>\n",
       "      <td>-0.335913</td>\n",
       "      <td>-0.345102</td>\n",
       "      <td>-1.141548</td>\n",
       "      <td>-0.938987</td>\n",
       "      <td>0.505361</td>\n",
       "      <td>-0.669589</td>\n",
       "      <td>-0.433697</td>\n",
       "      <td>1.990254</td>\n",
       "    </tr>\n",
       "  </tbody>\n",
       "</table>\n",
       "</div>"
      ],
      "text/plain": [
       "              4         5         6         7         8         9         10  \\\n",
       "21668  -0.259557 -0.435987 -0.336844 -0.355233 -1.141548 -0.938987  0.505361   \n",
       "54842   7.503990  3.136628  0.587071  9.698256 -1.141548 -0.938987  0.505361   \n",
       "77291  -0.259514 -0.427586 -0.334672 -0.331594 -1.141548 -0.938987  0.505361   \n",
       "114020 -0.259535 -0.429987 -0.335292 -0.338348 -1.141548 -0.938987  0.505361   \n",
       "146669 -0.259549 -0.432387 -0.335913 -0.345102 -1.141548 -0.938987  0.505361   \n",
       "\n",
       "              11        12        13  \n",
       "21668  -0.669589 -0.433697  1.990254  \n",
       "54842  -0.669589 -0.433697  1.990254  \n",
       "77291  -0.669589 -0.433697  1.990254  \n",
       "114020 -0.669589 -0.433697  1.990254  \n",
       "146669 -0.669589 -0.433697  1.990254  "
      ]
     },
     "execution_count": 26,
     "metadata": {},
     "output_type": "execute_result"
    }
   ],
   "source": [
    "poly_train_times = add_poly_feats(train_times)\n",
    "poly_train_times.head()"
   ]
  },
  {
   "cell_type": "markdown",
   "metadata": {},
   "source": [
    "Make this a sparse matrix and add it to our existing `train_sparse` to form `train_poly_sparse`"
   ]
  },
  {
   "cell_type": "code",
   "execution_count": 27,
   "metadata": {},
   "outputs": [
    {
     "name": "stdout",
     "output_type": "stream",
     "text": [
      "<class 'scipy.sparse.coo.coo_matrix'> (253561, 50016)\n"
     ]
    }
   ],
   "source": [
    "train_poly_sparse = hstack([train_sparse, csr_matrix(poly_train_times)])\n",
    "print(type(train_poly_sparse), train_poly_sparse.shape)"
   ]
  },
  {
   "cell_type": "markdown",
   "metadata": {},
   "source": [
    "As an alternative to considering all of the time features without a \"human interpretation\" , let's try looking at the time data once more with time-of-day classifications such as 'morning', 'afternoon', 'evening', and 'night'. A machine learning algorithm may not understand the importance of these seemingly arbitrary classifcations, but knowing that most people operate their days within general time-frames such as these may help us further interpret data trends."
   ]
  },
  {
   "cell_type": "code",
   "execution_count": 28,
   "metadata": {},
   "outputs": [],
   "source": [
    "def add_time_of_day_features(dataframe):\n",
    "    '''Takes a dataframe, extracts the starting hour, and inteprets the time of day.\n",
    "     This function outputs a DataFrame with OHE vectorized data corresponding to the time of day defined as:\n",
    "    \"morning\"\n",
    "    \"afternoon\"\n",
    "    \"evening\"\n",
    "    \n",
    "    We can skip a \"night\" classification because there is no web usage between 23:00 and 7:00\n",
    "    '''\n",
    "    \n",
    "    df = pd.DataFrame(index=dataframe.index)\n",
    "    hour = dataframe['time1'].apply(lambda ts: ts.hour)\n",
    "    df['morning'] = ((hour >= 7) & (hour <= 11)).astype('int') # between 7:00 and 11:00\n",
    "    df['afternoon'] = ((hour >= 12) & (hour <= 17)).astype('int') # between 12:00 and 17:00\n",
    "    df['evening'] = ((hour >= 18) & (hour <= 23)).astype('int') # between 18:00 and 23:00\n",
    "    \n",
    "    df_labels = pd.DataFrame(index=dataframe.index, \n",
    "                             data=np.dot(df.values, np.array(df.columns)), \n",
    "                             columns=['TOD'])\n",
    "    \n",
    "    return df, df_labels"
   ]
  },
  {
   "cell_type": "code",
   "execution_count": 29,
   "metadata": {},
   "outputs": [
    {
     "data": {
      "text/html": [
       "<div>\n",
       "<style scoped>\n",
       "    .dataframe tbody tr th:only-of-type {\n",
       "        vertical-align: middle;\n",
       "    }\n",
       "\n",
       "    .dataframe tbody tr th {\n",
       "        vertical-align: top;\n",
       "    }\n",
       "\n",
       "    .dataframe thead th {\n",
       "        text-align: right;\n",
       "    }\n",
       "</style>\n",
       "<table border=\"1\" class=\"dataframe\">\n",
       "  <thead>\n",
       "    <tr style=\"text-align: right;\">\n",
       "      <th></th>\n",
       "      <th>TOD</th>\n",
       "      <th>target</th>\n",
       "    </tr>\n",
       "  </thead>\n",
       "  <tbody>\n",
       "    <tr>\n",
       "      <th>21668</th>\n",
       "      <td>morning</td>\n",
       "      <td>0</td>\n",
       "    </tr>\n",
       "    <tr>\n",
       "      <th>54842</th>\n",
       "      <td>morning</td>\n",
       "      <td>0</td>\n",
       "    </tr>\n",
       "    <tr>\n",
       "      <th>77291</th>\n",
       "      <td>morning</td>\n",
       "      <td>0</td>\n",
       "    </tr>\n",
       "    <tr>\n",
       "      <th>114020</th>\n",
       "      <td>morning</td>\n",
       "      <td>0</td>\n",
       "    </tr>\n",
       "    <tr>\n",
       "      <th>146669</th>\n",
       "      <td>morning</td>\n",
       "      <td>0</td>\n",
       "    </tr>\n",
       "  </tbody>\n",
       "</table>\n",
       "</div>"
      ],
      "text/plain": [
       "            TOD  target\n",
       "21668   morning       0\n",
       "54842   morning       0\n",
       "77291   morning       0\n",
       "114020  morning       0\n",
       "146669  morning       0"
      ]
     },
     "execution_count": 29,
     "metadata": {},
     "output_type": "execute_result"
    }
   ],
   "source": [
    "train_tod_ohe, train_tod_labels = add_time_of_day_features(train_data)\n",
    "train_tod_labels['target'] = y_train\n",
    "train_tod_labels.head()"
   ]
  },
  {
   "cell_type": "code",
   "execution_count": 30,
   "metadata": {},
   "outputs": [
    {
     "data": {
      "text/plain": [
       "<matplotlib.axes._subplots.AxesSubplot at 0x245043f4048>"
      ]
     },
     "execution_count": 30,
     "metadata": {},
     "output_type": "execute_result"
    },
    {
     "data": {
      "image/png": "[encoded data removed]",
      "text/plain": [
       "<Figure size 432x288 with 1 Axes>"
      ]
     },
     "metadata": {
      "needs_background": "light"
     },
     "output_type": "display_data"
    }
   ],
   "source": [
    "sns.countplot(x = 'TOD', hue = 'target', data = train_tod_labels)"
   ]
  },
  {
   "cell_type": "markdown",
   "metadata": {},
   "source": [
    "From this visualization, we can determine two things:\n",
    "1. The authorized user primarily surfs the web in the afternoon.\n",
    "2. The data is imbalanced heavily towards unauthorized usage (label 0)."
   ]
  },
  {
   "cell_type": "markdown",
   "metadata": {},
   "source": [
    "One more piece of time-based information to notice is that the authorized user's monthly activity excludes the months May-August. Similar to creating human-interpretable hourly bins above, let's create monthly bins associated with two \"working\" semesters and one \"summer\" semester.\n",
    "\n",
    "First, let's verify the months during which the authorized user has surfed the web."
   ]
  },
  {
   "cell_type": "code",
   "execution_count": 31,
   "metadata": {},
   "outputs": [
    {
     "name": "stdout",
     "output_type": "stream",
     "text": [
      "Authorized user's web-surfing months are: [ 1  2  3  4  9 11 12]\n"
     ]
    }
   ],
   "source": [
    "print('Authorized user\\'s web-surfing months are: {}'\n",
    "      .format(np.sort(train_times[train_times.target==1].start_month.unique())))"
   ]
  },
  {
   "cell_type": "code",
   "execution_count": 32,
   "metadata": {},
   "outputs": [],
   "source": [
    "def add_time_of_year_features(dataframe):\n",
    "    df = pd.DataFrame(index=dataframe.index)\n",
    "    month = dataframe['time1'].apply(lambda ts: ts.month)\n",
    "    df['spring'] = ((month >= 1) & (month <= 4)).astype('int') # Months 1-4\n",
    "    df['summer'] = ((month >= 5) & (month <= 8)).astype('int') # Months 5-8\n",
    "    df['fall'] = ((month >= 9) & (month <= 12)).astype('int') # Months 9-12\n",
    "    \n",
    "    df_labels = pd.DataFrame(index=dataframe.index, \n",
    "                             data=np.dot(df.values, np.array(df.columns)), \n",
    "                             columns=['TOY'])    \n",
    "    \n",
    "    return df, df_labels\n",
    "    "
   ]
  },
  {
   "cell_type": "code",
   "execution_count": 33,
   "metadata": {},
   "outputs": [
    {
     "data": {
      "text/html": [
       "<div>\n",
       "<style scoped>\n",
       "    .dataframe tbody tr th:only-of-type {\n",
       "        vertical-align: middle;\n",
       "    }\n",
       "\n",
       "    .dataframe tbody tr th {\n",
       "        vertical-align: top;\n",
       "    }\n",
       "\n",
       "    .dataframe thead th {\n",
       "        text-align: right;\n",
       "    }\n",
       "</style>\n",
       "<table border=\"1\" class=\"dataframe\">\n",
       "  <thead>\n",
       "    <tr style=\"text-align: right;\">\n",
       "      <th></th>\n",
       "      <th>TOY</th>\n",
       "      <th>target</th>\n",
       "    </tr>\n",
       "  </thead>\n",
       "  <tbody>\n",
       "    <tr>\n",
       "      <th>21668</th>\n",
       "      <td>spring</td>\n",
       "      <td>0</td>\n",
       "    </tr>\n",
       "    <tr>\n",
       "      <th>54842</th>\n",
       "      <td>spring</td>\n",
       "      <td>0</td>\n",
       "    </tr>\n",
       "    <tr>\n",
       "      <th>77291</th>\n",
       "      <td>spring</td>\n",
       "      <td>0</td>\n",
       "    </tr>\n",
       "    <tr>\n",
       "      <th>114020</th>\n",
       "      <td>spring</td>\n",
       "      <td>0</td>\n",
       "    </tr>\n",
       "    <tr>\n",
       "      <th>146669</th>\n",
       "      <td>spring</td>\n",
       "      <td>0</td>\n",
       "    </tr>\n",
       "  </tbody>\n",
       "</table>\n",
       "</div>"
      ],
      "text/plain": [
       "           TOY  target\n",
       "21668   spring       0\n",
       "54842   spring       0\n",
       "77291   spring       0\n",
       "114020  spring       0\n",
       "146669  spring       0"
      ]
     },
     "execution_count": 33,
     "metadata": {},
     "output_type": "execute_result"
    }
   ],
   "source": [
    "train_toy_ohe, train_toy_labels = add_time_of_year_features(train_data)\n",
    "train_toy_labels['target'] = y_train\n",
    "train_toy_labels.head()"
   ]
  },
  {
   "cell_type": "code",
   "execution_count": 34,
   "metadata": {},
   "outputs": [
    {
     "data": {
      "text/plain": [
       "<matplotlib.axes._subplots.AxesSubplot at 0x24503fdb278>"
      ]
     },
     "execution_count": 34,
     "metadata": {},
     "output_type": "execute_result"
    },
    {
     "data": {
      "image/png": "[encoded data removed]",
      "text/plain": [
       "<Figure size 432x288 with 1 Axes>"
      ]
     },
     "metadata": {
      "needs_background": "light"
     },
     "output_type": "display_data"
    }
   ],
   "source": [
    "sns.countplot(x = 'TOY', hue = 'target', data = train_toy_labels)"
   ]
  },
  {
   "cell_type": "markdown",
   "metadata": {},
   "source": [
    "Now that we have some \"human-interpreted\" time features, we can convert them to a sparse matrix and add _time-of-day_ and _time-of-year_ one-hot-encoded columns to our sparse Tf-Idf site matrix."
   ]
  },
  {
   "cell_type": "code",
   "execution_count": 35,
   "metadata": {},
   "outputs": [
    {
     "name": "stdout",
     "output_type": "stream",
     "text": [
      "<class 'scipy.sparse.coo.coo_matrix'> (253561, 50006)\n"
     ]
    }
   ],
   "source": [
    "train_todtoy_sparse = hstack([train_tfidf, csr_matrix(train_tod_ohe), csr_matrix(train_toy_ohe)])\n",
    "print(type(train_todtoy_sparse), train_todtoy_sparse.shape)"
   ]
  },
  {
   "cell_type": "markdown",
   "metadata": {},
   "source": [
    "**In Summary**  \n",
    "We now have three sparse matrices we can feed into different classification models. They are:\n",
    "1. `train_sparse` = A matrix of Tf-Idf web address n-grams and normalized time features that include \n",
    "                    start_hour, stop_hour, start_day, start_month, year, and total_session_mins\n",
    "2. `train_poly_sparse` = A matrix of the above information that also includes 10 polynomial features (order=2) for\n",
    "                         start_hour, start_day, start_month, and total_session_mins \n",
    "3. `train_todtoy_sparse` = A matrix of Tf_Idf web address n-grams with _time-of-day_ and _time-of-year_ features describing\n",
    "                            'morning', 'afternoon', 'evening', 'spring', 'summer', and 'fall'\n",
    "                    "
   ]
  },
  {
   "cell_type": "markdown",
   "metadata": {},
   "source": [
    "# Training Classifier Models"
   ]
  },
  {
   "cell_type": "code",
   "execution_count": 36,
   "metadata": {},
   "outputs": [],
   "source": [
    "train_dict = {'train_TFIDF_and_times': train_sparse,\n",
    "              'train_TFIDF_and_poly_times': train_poly_sparse,\n",
    "              'train_TFIDF_and_time_of_day_and_year': train_todtoy_sparse}"
   ]
  },
  {
   "cell_type": "markdown",
   "metadata": {},
   "source": [
    "**Random Forest Classifier**"
   ]
  },
  {
   "cell_type": "code",
   "execution_count": 37,
   "metadata": {},
   "outputs": [],
   "source": [
    "def run_random_forest(train_dict, y_train, n_estimators=30):\n",
    "    forest_scores = [] # instantiate a list to keep track of cross-val scores\n",
    "    time_split = TimeSeriesSplit(n_splits=5) # define a cross-val generator\n",
    "    forest = RandomForestClassifier(n_estimators=n_estimators, n_jobs=3) # define a random forest with n_estimators\n",
    "    \n",
    "    for key, data in train_dict.items():\n",
    "        this_score = np.mean(cross_val_score(forest, data, y_train,\n",
    "                                                scoring='roc_auc', cv=time_split,\n",
    "                                                n_jobs=3, verbose=2))\n",
    "        forest_scores.append(np.round(this_score, 4))\n",
    "        print('Finished training with {}'.format(key))\n",
    "        \n",
    "    return forest_scores\n",
    "    "
   ]
  },
  {
   "cell_type": "code",
   "execution_count": 69,
   "metadata": {},
   "outputs": [
    {
     "name": "stderr",
     "output_type": "stream",
     "text": [
      "[Parallel(n_jobs=3)]: Using backend LokyBackend with 3 concurrent workers.\n",
      "[Parallel(n_jobs=3)]: Done   3 out of   5 | elapsed:  2.8min remaining:  1.9min\n",
      "[Parallel(n_jobs=3)]: Done   5 out of   5 | elapsed:  5.2min finished\n"
     ]
    },
    {
     "name": "stdout",
     "output_type": "stream",
     "text": [
      "Finished training with train_TFIDF_and_times\n"
     ]
    },
    {
     "name": "stderr",
     "output_type": "stream",
     "text": [
      "[Parallel(n_jobs=3)]: Using backend LokyBackend with 3 concurrent workers.\n",
      "[Parallel(n_jobs=3)]: Done   3 out of   5 | elapsed:  2.2min remaining:  1.5min\n",
      "[Parallel(n_jobs=3)]: Done   5 out of   5 | elapsed:  4.5min finished\n"
     ]
    },
    {
     "name": "stdout",
     "output_type": "stream",
     "text": [
      "Finished training with train_TFIDF_and_poly_times\n"
     ]
    },
    {
     "name": "stderr",
     "output_type": "stream",
     "text": [
      "[Parallel(n_jobs=3)]: Using backend LokyBackend with 3 concurrent workers.\n",
      "[Parallel(n_jobs=3)]: Done   3 out of   5 | elapsed:  3.5min remaining:  2.3min\n",
      "[Parallel(n_jobs=3)]: Done   5 out of   5 | elapsed:  6.5min finished\n"
     ]
    },
    {
     "name": "stdout",
     "output_type": "stream",
     "text": [
      "Finished training with train_TFIDF_and_time_of_day_and_year\n",
      "[0.7911, 0.8038, 0.7774]\n"
     ]
    }
   ],
   "source": [
    "RFC_scores = run_random_forest(train_dict, y_train, n_estimators=50)\n",
    "print(RFC_scores)"
   ]
  },
  {
   "cell_type": "markdown",
   "metadata": {},
   "source": [
    "**Logistic Regression**"
   ]
  },
  {
   "cell_type": "code",
   "execution_count": 38,
   "metadata": {},
   "outputs": [],
   "source": [
    "def run_logit_reg(train_dict, y_train):\n",
    "    logit_scores = [] # instantiate a list to keep track of cross-val scores\n",
    "    time_split = TimeSeriesSplit(n_splits=5) # define a cross-val generator\n",
    "    logit = LogisticRegression(class_weight='balanced', n_jobs=3) # define a logistic regression model\n",
    "    \n",
    "    for key, data in train_dict.items():\n",
    "        this_score = np.mean(cross_val_score(logit, data, y_train,\n",
    "                                                scoring='roc_auc', cv=time_split,\n",
    "                                                n_jobs=3, verbose=2))\n",
    "        logit_scores.append(np.round(this_score, 4))\n",
    "        print('Finished training with {}'.format(key))\n",
    "        \n",
    "    return logit_scores\n",
    "    \n",
    "    "
   ]
  },
  {
   "cell_type": "code",
   "execution_count": 71,
   "metadata": {},
   "outputs": [
    {
     "name": "stderr",
     "output_type": "stream",
     "text": [
      "[Parallel(n_jobs=3)]: Using backend LokyBackend with 3 concurrent workers.\n",
      "[Parallel(n_jobs=3)]: Done   3 out of   5 | elapsed:   18.3s remaining:   12.2s\n",
      "[Parallel(n_jobs=3)]: Done   5 out of   5 | elapsed:   34.2s finished\n"
     ]
    },
    {
     "name": "stdout",
     "output_type": "stream",
     "text": [
      "Finished training with train_TFIDF_and_times\n"
     ]
    },
    {
     "name": "stderr",
     "output_type": "stream",
     "text": [
      "[Parallel(n_jobs=3)]: Using backend LokyBackend with 3 concurrent workers.\n",
      "[Parallel(n_jobs=3)]: Done   3 out of   5 | elapsed:   21.9s remaining:   14.5s\n",
      "[Parallel(n_jobs=3)]: Done   5 out of   5 | elapsed:   45.0s finished\n"
     ]
    },
    {
     "name": "stdout",
     "output_type": "stream",
     "text": [
      "Finished training with train_TFIDF_and_poly_times\n"
     ]
    },
    {
     "name": "stderr",
     "output_type": "stream",
     "text": [
      "[Parallel(n_jobs=3)]: Using backend LokyBackend with 3 concurrent workers.\n",
      "[Parallel(n_jobs=3)]: Done   3 out of   5 | elapsed:   13.8s remaining:    9.1s\n",
      "[Parallel(n_jobs=3)]: Done   5 out of   5 | elapsed:   26.5s finished\n"
     ]
    },
    {
     "name": "stdout",
     "output_type": "stream",
     "text": [
      "Finished training with train_TFIDF_and_time_of_day_and_year\n",
      "[0.8641, 0.8846, 0.8897]\n"
     ]
    }
   ],
   "source": [
    "Logit_scores = run_logit_reg(train_dict, y_train)\n",
    "print(Logit_scores)"
   ]
  },
  {
   "cell_type": "markdown",
   "metadata": {},
   "source": [
    "**Support Vector Machines**"
   ]
  },
  {
   "cell_type": "code",
   "execution_count": 41,
   "metadata": {},
   "outputs": [],
   "source": [
    "def run_svm(train_dict, y_train):\n",
    "    svm_scores = [] # instantiate a list to keep track of cross-val scores\n",
    "    time_split = TimeSeriesSplit(n_splits=5) # define a cross-val generator\n",
    "    clf = SGDClassifier(class_weight='balanced') # with default loss parameter this performs linearSVM\n",
    "    \n",
    "    for key, data in train_dict.items():\n",
    "        this_score = np.mean(cross_val_score(clf, data, y_train,\n",
    "                                                scoring='roc_auc', cv=time_split,\n",
    "                                                verbose=2, n_jobs=3))\n",
    "        svm_scores.append(np.round(this_score, 4))\n",
    "        print('Finished training with {}'.format(key))\n",
    "        \n",
    "    return svm_scores"
   ]
  },
  {
   "cell_type": "code",
   "execution_count": 42,
   "metadata": {},
   "outputs": [
    {
     "name": "stderr",
     "output_type": "stream",
     "text": [
      "[Parallel(n_jobs=3)]: Using backend LokyBackend with 3 concurrent workers.\n",
      "[Parallel(n_jobs=3)]: Done   3 out of   5 | elapsed:    3.4s remaining:    2.2s\n",
      "[Parallel(n_jobs=3)]: Done   5 out of   5 | elapsed:    4.1s finished\n"
     ]
    },
    {
     "name": "stdout",
     "output_type": "stream",
     "text": [
      "Finished training with train_TFIDF_and_times\n"
     ]
    },
    {
     "name": "stderr",
     "output_type": "stream",
     "text": [
      "[Parallel(n_jobs=3)]: Using backend LokyBackend with 3 concurrent workers.\n",
      "[Parallel(n_jobs=3)]: Done   3 out of   5 | elapsed:    1.2s remaining:    0.8s\n",
      "[Parallel(n_jobs=3)]: Done   5 out of   5 | elapsed:    2.3s finished\n"
     ]
    },
    {
     "name": "stdout",
     "output_type": "stream",
     "text": [
      "Finished training with train_TFIDF_and_poly_times\n"
     ]
    },
    {
     "name": "stderr",
     "output_type": "stream",
     "text": [
      "[Parallel(n_jobs=3)]: Using backend LokyBackend with 3 concurrent workers.\n",
      "[Parallel(n_jobs=3)]: Done   3 out of   5 | elapsed:    1.0s remaining:    0.6s\n",
      "[Parallel(n_jobs=3)]: Done   5 out of   5 | elapsed:    1.9s finished\n"
     ]
    },
    {
     "name": "stdout",
     "output_type": "stream",
     "text": [
      "Finished training with train_TFIDF_and_time_of_day_and_year\n",
      "[0.8378, 0.8725, 0.8997]\n"
     ]
    }
   ],
   "source": [
    "SVM_scores = run_svm(train_dict, y_train)\n",
    "print(SVM_scores)"
   ]
  },
  {
   "cell_type": "markdown",
   "metadata": {},
   "source": [
    "**XGBoost**"
   ]
  },
  {
   "cell_type": "code",
   "execution_count": 43,
   "metadata": {},
   "outputs": [],
   "source": [
    "def run_xgb(train_dict, y_train):\n",
    "    xgb_scores = [] # instantiate a list to keep track of cross-val scores\n",
    "    time_split = TimeSeriesSplit(n_splits=5) # define a cross-val generator\n",
    "    xgbc = xgb.XGBClassifier(n_jobs=3)\n",
    "    \n",
    "    for key, data in train_dict.items():\n",
    "        this_score = np.mean(cross_val_score(xgbc, data, y_train,\n",
    "                                                scoring='roc_auc', cv=time_split,\n",
    "                                                verbose=2, n_jobs=3))\n",
    "        xgb_scores.append(np.round(this_score, 4))\n",
    "        print('Finished training with {}'.format(key))\n",
    "        \n",
    "    return xgb_scores"
   ]
  },
  {
   "cell_type": "code",
   "execution_count": 44,
   "metadata": {},
   "outputs": [
    {
     "name": "stderr",
     "output_type": "stream",
     "text": [
      "[Parallel(n_jobs=3)]: Using backend LokyBackend with 3 concurrent workers.\n",
      "[Parallel(n_jobs=3)]: Done   3 out of   5 | elapsed:  1.3min remaining:   52.9s\n",
      "[Parallel(n_jobs=3)]: Done   5 out of   5 | elapsed:  2.4min finished\n"
     ]
    },
    {
     "name": "stdout",
     "output_type": "stream",
     "text": [
      "Finished training with train_TFIDF_and_times\n"
     ]
    },
    {
     "name": "stderr",
     "output_type": "stream",
     "text": [
      "[Parallel(n_jobs=3)]: Using backend LokyBackend with 3 concurrent workers.\n",
      "[Parallel(n_jobs=3)]: Done   3 out of   5 | elapsed:  1.4min remaining:   54.6s\n",
      "[Parallel(n_jobs=3)]: Done   5 out of   5 | elapsed:  2.8min finished\n"
     ]
    },
    {
     "name": "stdout",
     "output_type": "stream",
     "text": [
      "Finished training with train_TFIDF_and_poly_times\n"
     ]
    },
    {
     "name": "stderr",
     "output_type": "stream",
     "text": [
      "[Parallel(n_jobs=3)]: Using backend LokyBackend with 3 concurrent workers.\n",
      "[Parallel(n_jobs=3)]: Done   3 out of   5 | elapsed:  1.5min remaining:   58.5s\n",
      "[Parallel(n_jobs=3)]: Done   5 out of   5 | elapsed:  2.7min finished\n"
     ]
    },
    {
     "name": "stdout",
     "output_type": "stream",
     "text": [
      "Finished training with train_TFIDF_and_time_of_day_and_year\n",
      "[0.9279, 0.922, 0.8986]\n"
     ]
    }
   ],
   "source": [
    "XGB_scores = run_xgb(train_dict, y_train)\n",
    "print(XGB_scores)"
   ]
  },
  {
   "cell_type": "code",
   "execution_count": null,
   "metadata": {},
   "outputs": [],
   "source": []
  },
  {
   "cell_type": "code",
   "execution_count": null,
   "metadata": {},
   "outputs": [],
   "source": []
  },
  {
   "cell_type": "code",
   "execution_count": null,
   "metadata": {},
   "outputs": [],
   "source": []
  }
 ],
 "metadata": {
  "kernelspec": {
   "display_name": "Python 3",
   "language": "python",
   "name": "python3"
  },
  "language_info": {
   "codemirror_mode": {
    "name": "ipython",
    "version": 3
   },
   "file_extension": ".py",
   "mimetype": "text/x-python",
   "name": "python",
   "nbconvert_exporter": "python",
   "pygments_lexer": "ipython3",
   "version": "3.6.7"
  }
 },
 "nbformat": 4,
 "nbformat_minor": 2
}
